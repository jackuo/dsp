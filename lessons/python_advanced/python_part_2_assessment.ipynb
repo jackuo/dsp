{
 "cells": [
  {
   "cell_type": "code",
   "execution_count": 4,
   "metadata": {},
   "outputs": [],
   "source": [
    "import numpy as np\n",
    "import sys\n",
    "import os\n",
    "import tempfile\n",
    "from pathlib import Path\n",
    "\n",
    "import csv"
   ]
  },
  {
   "cell_type": "code",
   "execution_count": 191,
   "metadata": {},
   "outputs": [],
   "source": [
    "## In this case, the keys are the titles/degrees!\n",
    "faculty_degree = []\n",
    "\n",
    "# Read file and save titles to list\n",
    "with open('/Users/JacKuo14/Documents/Metis/dsp/lessons/data/faculty.csv', 'r') as csvfile:\n",
    "    file_reader = csv.reader(csvfile, delimiter = ',')\n",
    "    for line in file_reader:\n",
    "        faculty_degree.append(line[1])"
   ]
  },
  {
   "cell_type": "code",
   "execution_count": 194,
   "metadata": {},
   "outputs": [
    {
     "name": "stdout",
     "output_type": "stream",
     "text": [
      "defaultdict(<class 'int'>, {'SCD': 6, 'PhD': 31, 'MPH': 2, 'MD': 1, 'MS': 2, 'BSED': 1, 'JD': 1, 'MA': 1, '0': 1})\n"
     ]
    }
   ],
   "source": [
    "title_dict = defaultdict(int)\n",
    "\n",
    "for val in faculty_degree[1:]:\n",
    "    if 'Ph' in val:\n",
    "        title_dict['PhD'] += 1\n",
    "    if 'MS' in val or 'M.S' in val:\n",
    "        title_dict['MS'] += 1\n",
    "    if 'Sc' in val:\n",
    "        title_dict['SCD'] += 1\n",
    "    if 'MPH' in val:\n",
    "        title_dict['MPH'] += 1\n",
    "    if 'B.S.E' in val:\n",
    "        title_dict['BSED'] += 1\n",
    "    if 'JD' in val:\n",
    "        title_dict['JD'] += 1\n",
    "    if 'MD' in val:\n",
    "        title_dict['MD'] += 1\n",
    "    if 'MA' in val:\n",
    "        title_dict['MA'] += 1\n",
    "    if '0' in val:\n",
    "        title_dict['0'] += 1\n",
    "\n",
    "print(title_dict)\n",
    "        "
   ]
  },
  {
   "cell_type": "code",
   "execution_count": 184,
   "metadata": {},
   "outputs": [
    {
     "data": {
      "text/plain": [
       "[' degree',\n",
       " ' Sc.D.',\n",
       " 'Ph.D.',\n",
       " ' PhD',\n",
       " ' Ph.D.',\n",
       " ' Ph.D.',\n",
       " ' Ph.D.',\n",
       " ' Ph.D',\n",
       " ' PhD',\n",
       " ' Ph.D',\n",
       " ' Ph.D',\n",
       " ' Ph.D.',\n",
       " ' PhD',\n",
       " ' Ph.D.',\n",
       " ' MD MPH Ph.D',\n",
       " ' B.S.Ed. M.S. Ph.D.',\n",
       " ' Ph.D.',\n",
       " ' Ph.D.',\n",
       " ' Ph.D',\n",
       " ' JD MA MPH MS PhD',\n",
       " ' Ph.D.',\n",
       " ' Sc.D.',\n",
       " ' Sc.D.',\n",
       " ' PhD ScD',\n",
       " ' Ph.D.',\n",
       " ' PhD',\n",
       " ' Ph.D.',\n",
       " ' Sc.D.',\n",
       " ' PhD',\n",
       " '0',\n",
       " ' Ph.D.',\n",
       " ' Ph.D.',\n",
       " ' Ph.D.',\n",
       " ' ScD',\n",
       " ' PhD',\n",
       " ' Ph.D.',\n",
       " ' PhD',\n",
       " ' Ph.D.']"
      ]
     },
     "execution_count": 184,
     "metadata": {},
     "output_type": "execute_result"
    }
   ],
   "source": [
    "faculty_degree"
   ]
  },
  {
   "cell_type": "code",
   "execution_count": 60,
   "metadata": {},
   "outputs": [],
   "source": [
    "# Clean up the list\n",
    "for index in range(len(faculty_degree)):\n",
    "    faculty_degree[index] = faculty_degree[index].strip() #remove extra white space\n",
    "    if ' ' in faculty_degree[index]:   # for those rows with more than one degree, parse\n",
    "        split_degree = faculty_degrees[index].split(\" \")\n",
    "        \n",
    "        faculty_degree"
   ]
  },
  {
   "cell_type": "code",
   "execution_count": 61,
   "metadata": {},
   "outputs": [
    {
     "data": {
      "text/plain": [
       "['degree',\n",
       " 'Sc.D.',\n",
       " 'Ph.D.',\n",
       " 'PhD',\n",
       " 'Ph.D.',\n",
       " 'Ph.D.',\n",
       " 'Ph.D.',\n",
       " 'Ph.D',\n",
       " 'PhD',\n",
       " 'Ph.D',\n",
       " 'Ph.D',\n",
       " 'Ph.D.',\n",
       " 'PhD',\n",
       " 'Ph.D.',\n",
       " 'MD MPH Ph.D',\n",
       " 'B.S.Ed. M.S. Ph.D.',\n",
       " 'Ph.D.',\n",
       " 'Ph.D.',\n",
       " 'Ph.D',\n",
       " 'JD MA MPH MS PhD',\n",
       " 'Ph.D.',\n",
       " 'Sc.D.',\n",
       " 'Sc.D.',\n",
       " 'PhD ScD',\n",
       " 'Ph.D.',\n",
       " 'PhD',\n",
       " 'Ph.D.',\n",
       " 'Sc.D.',\n",
       " 'PhD',\n",
       " '0',\n",
       " 'Ph.D.',\n",
       " 'Ph.D.',\n",
       " 'Ph.D.',\n",
       " 'ScD',\n",
       " 'PhD',\n",
       " 'Ph.D.',\n",
       " 'PhD',\n",
       " 'Ph.D.']"
      ]
     },
     "execution_count": 61,
     "metadata": {},
     "output_type": "execute_result"
    }
   ],
   "source": [
    "faculty_degree"
   ]
  },
  {
   "cell_type": "code",
   "execution_count": 66,
   "metadata": {},
   "outputs": [
    {
     "data": {
      "text/plain": [
       "{'0',\n",
       " 'B.S.Ed. M.S. Ph.D.',\n",
       " 'JD MA MPH MS PhD',\n",
       " 'MD MPH Ph.D',\n",
       " 'Ph.D',\n",
       " 'Ph.D.',\n",
       " 'PhD',\n",
       " 'PhD ScD',\n",
       " 'Sc.D.',\n",
       " 'ScD',\n",
       " 'degree'}"
      ]
     },
     "execution_count": 66,
     "metadata": {},
     "output_type": "execute_result"
    }
   ],
   "source": [
    "set(faculty_degree)"
   ]
  },
  {
   "cell_type": "code",
   "execution_count": 63,
   "metadata": {},
   "outputs": [],
   "source": [
    "test = \" \".join(faculty_degree)"
   ]
  },
  {
   "cell_type": "code",
   "execution_count": 64,
   "metadata": {},
   "outputs": [
    {
     "data": {
      "text/plain": [
       "'degree Sc.D. Ph.D. PhD Ph.D. Ph.D. Ph.D. Ph.D PhD Ph.D Ph.D Ph.D. PhD Ph.D. MD MPH Ph.D B.S.Ed. M.S. Ph.D. Ph.D. Ph.D. Ph.D JD MA MPH MS PhD Ph.D. Sc.D. Sc.D. PhD ScD Ph.D. PhD Ph.D. Sc.D. PhD 0 Ph.D. Ph.D. Ph.D. ScD PhD Ph.D. PhD Ph.D.'"
      ]
     },
     "execution_count": 64,
     "metadata": {},
     "output_type": "execute_result"
    }
   ],
   "source": [
    "test"
   ]
  },
  {
   "cell_type": "code",
   "execution_count": null,
   "metadata": {},
   "outputs": [],
   "source": [
    "regex_match = [['Ph.D', 'Ph'], ['Sc.D', 'Sc'], ['MD', 'MD'], ['MPH', 'MPH'], ['M.S.', 'MS\\.'], ['B']"
   ]
  },
  {
   "cell_type": "code",
   "execution_count": 73,
   "metadata": {},
   "outputs": [
    {
     "data": {
      "text/plain": [
       "0"
      ]
     },
     "execution_count": 73,
     "metadata": {},
     "output_type": "execute_result"
    }
   ],
   "source": [
    "\n",
    "match = re.findall(\"MS\\.\", test) \n",
    "len(match)"
   ]
  },
  {
   "cell_type": "code",
   "execution_count": 50,
   "metadata": {},
   "outputs": [
    {
     "name": "stdout",
     "output_type": "stream",
     "text": [
      "True\n"
     ]
    }
   ],
   "source": [
    "if ' ' in faculty_dict[15]:\n",
    "    print(True)\n",
    "else:\n",
    "    print(False)"
   ]
  },
  {
   "cell_type": "code",
   "execution_count": 56,
   "metadata": {},
   "outputs": [
    {
     "data": {
      "text/plain": [
       "['B.S.Ed.', 'M.S.', 'Ph.D.']"
      ]
     },
     "execution_count": 56,
     "metadata": {},
     "output_type": "execute_result"
    }
   ],
   "source": [
    "faculty_dict[15].split(\" \")"
   ]
  },
  {
   "cell_type": "code",
   "execution_count": 58,
   "metadata": {},
   "outputs": [
    {
     "ename": "TypeError",
     "evalue": "findall() missing 2 required positional arguments: 'pattern' and 'string'",
     "output_type": "error",
     "traceback": [
      "\u001b[0;31m---------------------------------------------------------------------------\u001b[0m",
      "\u001b[0;31mTypeError\u001b[0m                                 Traceback (most recent call last)",
      "\u001b[0;32m<ipython-input-58-ac74c20c623a>\u001b[0m in \u001b[0;36m<module>\u001b[0;34m\u001b[0m\n\u001b[0;32m----> 1\u001b[0;31m \u001b[0mre\u001b[0m\u001b[0;34m.\u001b[0m\u001b[0mfindall\u001b[0m\u001b[0;34m(\u001b[0m\u001b[0;34m)\u001b[0m\u001b[0;34m\u001b[0m\u001b[0;34m\u001b[0m\u001b[0m\n\u001b[0m",
      "\u001b[0;31mTypeError\u001b[0m: findall() missing 2 required positional arguments: 'pattern' and 'string'"
     ]
    }
   ],
   "source": [
    "for val in faculty_dic\n",
    "re.findall(\"Ph\", )"
   ]
  },
  {
   "cell_type": "code",
   "execution_count": 23,
   "metadata": {},
   "outputs": [
    {
     "data": {
      "text/plain": [
       "{' B.S.Ed. M.S. Ph.D.',\n",
       " ' JD MA MPH MS PhD',\n",
       " ' MD MPH Ph.D',\n",
       " ' Ph.D',\n",
       " ' Ph.D.',\n",
       " ' PhD',\n",
       " ' PhD ScD',\n",
       " ' Sc.D.',\n",
       " ' ScD',\n",
       " ' degree',\n",
       " '0',\n",
       " 'Ph.D.'}"
      ]
     },
     "execution_count": 23,
     "metadata": {},
     "output_type": "execute_result"
    }
   ],
   "source": [
    "set(faculty_dict)"
   ]
  },
  {
   "cell_type": "code",
   "execution_count": 25,
   "metadata": {},
   "outputs": [
    {
     "data": {
      "text/plain": [
       "4"
      ]
     },
     "execution_count": 25,
     "metadata": {},
     "output_type": "execute_result"
    }
   ],
   "source": [
    "faculty_dict.count(\" Ph.D\")"
   ]
  },
  {
   "cell_type": "code",
   "execution_count": 40,
   "metadata": {},
   "outputs": [
    {
     "name": "stdout",
     "output_type": "stream",
     "text": [
      "None\n",
      "None\n",
      "<_sre.SRE_Match object; span=(0, 2), match='Ph'>\n",
      "<_sre.SRE_Match object; span=(0, 2), match='Ph'>\n",
      "<_sre.SRE_Match object; span=(0, 2), match='Ph'>\n",
      "<_sre.SRE_Match object; span=(0, 2), match='Ph'>\n",
      "<_sre.SRE_Match object; span=(0, 2), match='Ph'>\n",
      "<_sre.SRE_Match object; span=(0, 2), match='Ph'>\n",
      "<_sre.SRE_Match object; span=(0, 2), match='Ph'>\n",
      "<_sre.SRE_Match object; span=(0, 2), match='Ph'>\n",
      "<_sre.SRE_Match object; span=(0, 2), match='Ph'>\n",
      "<_sre.SRE_Match object; span=(0, 2), match='Ph'>\n",
      "<_sre.SRE_Match object; span=(0, 2), match='Ph'>\n",
      "<_sre.SRE_Match object; span=(0, 2), match='Ph'>\n",
      "None\n",
      "None\n",
      "<_sre.SRE_Match object; span=(0, 2), match='Ph'>\n",
      "<_sre.SRE_Match object; span=(0, 2), match='Ph'>\n",
      "<_sre.SRE_Match object; span=(0, 2), match='Ph'>\n",
      "None\n",
      "<_sre.SRE_Match object; span=(0, 2), match='Ph'>\n",
      "None\n",
      "None\n",
      "<_sre.SRE_Match object; span=(0, 2), match='Ph'>\n",
      "<_sre.SRE_Match object; span=(0, 2), match='Ph'>\n",
      "<_sre.SRE_Match object; span=(0, 2), match='Ph'>\n",
      "<_sre.SRE_Match object; span=(0, 2), match='Ph'>\n",
      "None\n",
      "<_sre.SRE_Match object; span=(0, 2), match='Ph'>\n",
      "None\n",
      "<_sre.SRE_Match object; span=(0, 2), match='Ph'>\n",
      "<_sre.SRE_Match object; span=(0, 2), match='Ph'>\n",
      "<_sre.SRE_Match object; span=(0, 2), match='Ph'>\n",
      "None\n",
      "<_sre.SRE_Match object; span=(0, 2), match='Ph'>\n",
      "<_sre.SRE_Match object; span=(0, 2), match='Ph'>\n",
      "<_sre.SRE_Match object; span=(0, 2), match='Ph'>\n",
      "<_sre.SRE_Match object; span=(0, 2), match='Ph'>\n"
     ]
    }
   ],
   "source": [
    "import re\n",
    "\n",
    "for index in range(len(faculty_dict)):\n",
    "    faculty_dict[index] = faculty_dict[index].strip()\n",
    "    print(re.match(\"Ph\", faculty_dict[index]))"
   ]
  },
  {
   "cell_type": "code",
   "execution_count": 182,
   "metadata": {},
   "outputs": [
    {
     "ename": "TypeError",
     "evalue": "expected string or bytes-like object",
     "output_type": "error",
     "traceback": [
      "\u001b[0;31m---------------------------------------------------------------------------\u001b[0m",
      "\u001b[0;31mTypeError\u001b[0m                                 Traceback (most recent call last)",
      "\u001b[0;32m<ipython-input-182-30e113c27581>\u001b[0m in \u001b[0;36m<module>\u001b[0;34m\u001b[0m\n\u001b[1;32m      1\u001b[0m \u001b[0;32mimport\u001b[0m \u001b[0mre\u001b[0m\u001b[0;34m\u001b[0m\u001b[0;34m\u001b[0m\u001b[0m\n\u001b[0;32m----> 2\u001b[0;31m \u001b[0mre\u001b[0m\u001b[0;34m.\u001b[0m\u001b[0mmatch\u001b[0m\u001b[0;34m(\u001b[0m\u001b[0;34m\"Ph\"\u001b[0m\u001b[0;34m,\u001b[0m \u001b[0mfaculty_dict\u001b[0m\u001b[0;34m)\u001b[0m\u001b[0;34m\u001b[0m\u001b[0;34m\u001b[0m\u001b[0m\n\u001b[0m",
      "\u001b[0;32m/anaconda3/lib/python3.6/re.py\u001b[0m in \u001b[0;36mmatch\u001b[0;34m(pattern, string, flags)\u001b[0m\n\u001b[1;32m    170\u001b[0m     \"\"\"Try to apply the pattern at the start of the string, returning\n\u001b[1;32m    171\u001b[0m     a match object, or None if no match was found.\"\"\"\n\u001b[0;32m--> 172\u001b[0;31m     \u001b[0;32mreturn\u001b[0m \u001b[0m_compile\u001b[0m\u001b[0;34m(\u001b[0m\u001b[0mpattern\u001b[0m\u001b[0;34m,\u001b[0m \u001b[0mflags\u001b[0m\u001b[0;34m)\u001b[0m\u001b[0;34m.\u001b[0m\u001b[0mmatch\u001b[0m\u001b[0;34m(\u001b[0m\u001b[0mstring\u001b[0m\u001b[0;34m)\u001b[0m\u001b[0;34m\u001b[0m\u001b[0;34m\u001b[0m\u001b[0m\n\u001b[0m\u001b[1;32m    173\u001b[0m \u001b[0;34m\u001b[0m\u001b[0m\n\u001b[1;32m    174\u001b[0m \u001b[0;32mdef\u001b[0m \u001b[0mfullmatch\u001b[0m\u001b[0;34m(\u001b[0m\u001b[0mpattern\u001b[0m\u001b[0;34m,\u001b[0m \u001b[0mstring\u001b[0m\u001b[0;34m,\u001b[0m \u001b[0mflags\u001b[0m\u001b[0;34m=\u001b[0m\u001b[0;36m0\u001b[0m\u001b[0;34m)\u001b[0m\u001b[0;34m:\u001b[0m\u001b[0;34m\u001b[0m\u001b[0;34m\u001b[0m\u001b[0m\n",
      "\u001b[0;31mTypeError\u001b[0m: expected string or bytes-like object"
     ]
    }
   ],
   "source": [
    "import re\n",
    "re.match(\"Ph\", faculty_dict)"
   ]
  },
  {
   "cell_type": "code",
   "execution_count": 36,
   "metadata": {},
   "outputs": [
    {
     "data": {
      "text/plain": [
       "['degree',\n",
       " 'Sc.D.',\n",
       " 'Ph.D.',\n",
       " 'PhD',\n",
       " 'Ph.D.',\n",
       " 'Ph.D.',\n",
       " 'Ph.D.',\n",
       " 'Ph.D',\n",
       " 'PhD',\n",
       " 'Ph.D',\n",
       " 'Ph.D',\n",
       " 'Ph.D.',\n",
       " 'PhD',\n",
       " 'Ph.D.',\n",
       " 'MD MPH Ph.D',\n",
       " 'B.S.Ed. M.S. Ph.D.',\n",
       " 'Ph.D.',\n",
       " 'Ph.D.',\n",
       " 'Ph.D',\n",
       " 'JD MA MPH MS PhD',\n",
       " 'Ph.D.',\n",
       " 'Sc.D.',\n",
       " 'Sc.D.',\n",
       " 'PhD ScD',\n",
       " 'Ph.D.',\n",
       " 'PhD',\n",
       " 'Ph.D.',\n",
       " 'Sc.D.',\n",
       " 'PhD',\n",
       " '0',\n",
       " 'Ph.D.',\n",
       " 'Ph.D.',\n",
       " 'Ph.D.',\n",
       " 'ScD',\n",
       " 'PhD',\n",
       " 'Ph.D.',\n",
       " 'PhD',\n",
       " 'Ph.D.']"
      ]
     },
     "execution_count": 36,
     "metadata": {},
     "output_type": "execute_result"
    }
   ],
   "source": [
    "faculty_dict"
   ]
  },
  {
   "cell_type": "code",
   "execution_count": 32,
   "metadata": {},
   "outputs": [
    {
     "data": {
      "text/plain": [
       "'degree'"
      ]
     },
     "execution_count": 32,
     "metadata": {},
     "output_type": "execute_result"
    }
   ],
   "source": [
    "faculty_dict[0].strip()"
   ]
  },
  {
   "cell_type": "code",
   "execution_count": 38,
   "metadata": {},
   "outputs": [
    {
     "ename": "TypeError",
     "evalue": "expected string or bytes-like object",
     "output_type": "error",
     "traceback": [
      "\u001b[0;31m---------------------------------------------------------------------------\u001b[0m",
      "\u001b[0;31mTypeError\u001b[0m                                 Traceback (most recent call last)",
      "\u001b[0;32m<ipython-input-38-30e113c27581>\u001b[0m in \u001b[0;36m<module>\u001b[0;34m\u001b[0m\n\u001b[1;32m      1\u001b[0m \u001b[0;32mimport\u001b[0m \u001b[0mre\u001b[0m\u001b[0;34m\u001b[0m\u001b[0;34m\u001b[0m\u001b[0m\n\u001b[0;32m----> 2\u001b[0;31m \u001b[0mre\u001b[0m\u001b[0;34m.\u001b[0m\u001b[0mmatch\u001b[0m\u001b[0;34m(\u001b[0m\u001b[0;34m\"Ph\"\u001b[0m\u001b[0;34m,\u001b[0m \u001b[0mfaculty_dict\u001b[0m\u001b[0;34m)\u001b[0m\u001b[0;34m\u001b[0m\u001b[0;34m\u001b[0m\u001b[0m\n\u001b[0m",
      "\u001b[0;32m/anaconda3/lib/python3.6/re.py\u001b[0m in \u001b[0;36mmatch\u001b[0;34m(pattern, string, flags)\u001b[0m\n\u001b[1;32m    170\u001b[0m     \"\"\"Try to apply the pattern at the start of the string, returning\n\u001b[1;32m    171\u001b[0m     a match object, or None if no match was found.\"\"\"\n\u001b[0;32m--> 172\u001b[0;31m     \u001b[0;32mreturn\u001b[0m \u001b[0m_compile\u001b[0m\u001b[0;34m(\u001b[0m\u001b[0mpattern\u001b[0m\u001b[0;34m,\u001b[0m \u001b[0mflags\u001b[0m\u001b[0;34m)\u001b[0m\u001b[0;34m.\u001b[0m\u001b[0mmatch\u001b[0m\u001b[0;34m(\u001b[0m\u001b[0mstring\u001b[0m\u001b[0;34m)\u001b[0m\u001b[0;34m\u001b[0m\u001b[0;34m\u001b[0m\u001b[0m\n\u001b[0m\u001b[1;32m    173\u001b[0m \u001b[0;34m\u001b[0m\u001b[0m\n\u001b[1;32m    174\u001b[0m \u001b[0;32mdef\u001b[0m \u001b[0mfullmatch\u001b[0m\u001b[0;34m(\u001b[0m\u001b[0mpattern\u001b[0m\u001b[0;34m,\u001b[0m \u001b[0mstring\u001b[0m\u001b[0;34m,\u001b[0m \u001b[0mflags\u001b[0m\u001b[0;34m=\u001b[0m\u001b[0;36m0\u001b[0m\u001b[0;34m)\u001b[0m\u001b[0;34m:\u001b[0m\u001b[0;34m\u001b[0m\u001b[0;34m\u001b[0m\u001b[0m\n",
      "\u001b[0;31mTypeError\u001b[0m: expected string or bytes-like object"
     ]
    }
   ],
   "source": [
    "import re\n",
    "re.match(\"Ph\", faculty_dict)"
   ]
  },
  {
   "cell_type": "code",
   "execution_count": 31,
   "metadata": {},
   "outputs": [
    {
     "data": {
      "text/plain": [
       "[' degree',\n",
       " ' Sc.D.',\n",
       " 'Ph.D.',\n",
       " ' PhD',\n",
       " ' Ph.D.',\n",
       " ' Ph.D.',\n",
       " ' Ph.D.',\n",
       " ' Ph.D',\n",
       " ' PhD',\n",
       " ' Ph.D',\n",
       " ' Ph.D',\n",
       " ' Ph.D.',\n",
       " ' PhD',\n",
       " ' Ph.D.',\n",
       " ' MD MPH Ph.D',\n",
       " ' B.S.Ed. M.S. Ph.D.',\n",
       " ' Ph.D.',\n",
       " ' Ph.D.',\n",
       " ' Ph.D',\n",
       " ' JD MA MPH MS PhD',\n",
       " ' Ph.D.',\n",
       " ' Sc.D.',\n",
       " ' Sc.D.',\n",
       " ' PhD ScD',\n",
       " ' Ph.D.',\n",
       " ' PhD',\n",
       " ' Ph.D.',\n",
       " ' Sc.D.',\n",
       " ' PhD',\n",
       " '0',\n",
       " ' Ph.D.',\n",
       " ' Ph.D.',\n",
       " ' Ph.D.',\n",
       " ' ScD',\n",
       " ' PhD',\n",
       " ' Ph.D.',\n",
       " ' PhD',\n",
       " ' Ph.D.']"
      ]
     },
     "execution_count": 31,
     "metadata": {},
     "output_type": "execute_result"
    }
   ],
   "source": [
    "faculty_dict"
   ]
  },
  {
   "cell_type": "code",
   "execution_count": null,
   "metadata": {},
   "outputs": [],
   "source": []
  },
  {
   "cell_type": "markdown",
   "metadata": {},
   "source": [
    "# Question 2"
   ]
  },
  {
   "cell_type": "code",
   "execution_count": 99,
   "metadata": {},
   "outputs": [],
   "source": [
    "faculty_title = []\n",
    "with open('/Users/JacKuo14/Documents/Metis/dsp/lessons/data/faculty.csv', 'r') as csvfile:\n",
    "    file_reader = csv.reader(csvfile, delimiter = ',')\n",
    "    for line in file_reader:\n",
    "        faculty_title.append(line[2])"
   ]
  },
  {
   "cell_type": "code",
   "execution_count": 100,
   "metadata": {},
   "outputs": [],
   "source": [
    "faculty_title = [title.replace(' is ', ' of ') for title in faculty_title]"
   ]
  },
  {
   "cell_type": "code",
   "execution_count": 101,
   "metadata": {},
   "outputs": [
    {
     "data": {
      "text/plain": [
       "['Assistant Professor of Biostatistics',\n",
       " 'Associate Professor of Biostatistics',\n",
       " 'Professor of Biostatistics']"
      ]
     },
     "execution_count": 101,
     "metadata": {},
     "output_type": "execute_result"
    }
   ],
   "source": [
    "list(np.unique(faculty_title[1:]))"
   ]
  },
  {
   "cell_type": "code",
   "execution_count": 102,
   "metadata": {},
   "outputs": [],
   "source": [
    "freq = {}\n",
    "\n",
    "\n",
    "for title in faculty_title[1:]:\n",
    "    if (title in freq):\n",
    "        freq[title] += 1\n",
    "    else:\n",
    "        freq[title] = 1"
   ]
  },
  {
   "cell_type": "code",
   "execution_count": 103,
   "metadata": {},
   "outputs": [
    {
     "data": {
      "text/plain": [
       "{'Associate Professor of Biostatistics': 12,\n",
       " 'Professor of Biostatistics': 13,\n",
       " 'Assistant Professor of Biostatistics': 12}"
      ]
     },
     "execution_count": 103,
     "metadata": {},
     "output_type": "execute_result"
    }
   ],
   "source": [
    "freq"
   ]
  },
  {
   "cell_type": "code",
   "execution_count": null,
   "metadata": {},
   "outputs": [],
   "source": [
    "words = [w.replace('[br]', '<br />') for w in words]"
   ]
  },
  {
   "cell_type": "code",
   "execution_count": 104,
   "metadata": {},
   "outputs": [],
   "source": [
    "def count_titles(csv_file_name):\n",
    "    faculty_title = []\n",
    "    with open(csv_file_name, 'r') as csvfile:\n",
    "        file_reader = csv.reader(csvfile, delimiter = ',')\n",
    "        for line in file_reader:\n",
    "            faculty_title.append(line[2])\n",
    "    \n",
    "    faculty_title = [title.replace(' is ', ' or ') for title in faculty_title]\n",
    "\n",
    "    freq = {}\n",
    "    for title in faculty_title[1:]:\n",
    "        if (title in freq):\n",
    "            freq[title] += 1\n",
    "        else:\n",
    "            freq[title] = 1\n",
    "    \n",
    "    return(freq)\n",
    "\n",
    "    \n",
    "\n",
    "titlecounts = count_titles('/Users/JacKuo14/Documents/Metis/dsp/lessons/data/faculty.csv')\n",
    "    \n",
    "#titlecounts = {\n",
    "#    str(key).replace(' ', '').replace('.', '').lower()[:9]: val\n",
    "#    for key, val in titlecounts.items()\n",
    "#}"
   ]
  },
  {
   "cell_type": "code",
   "execution_count": 105,
   "metadata": {},
   "outputs": [
    {
     "data": {
      "text/plain": [
       "{'Associate Professor of Biostatistics': 12,\n",
       " 'Professor of Biostatistics': 13,\n",
       " 'Assistant Professor of Biostatistics': 11,\n",
       " 'Assistant Professor or Biostatistics': 1}"
      ]
     },
     "execution_count": 105,
     "metadata": {},
     "output_type": "execute_result"
    }
   ],
   "source": [
    "titlecounts"
   ]
  },
  {
   "cell_type": "code",
   "execution_count": 97,
   "metadata": {},
   "outputs": [
    {
     "ename": "AssertionError",
     "evalue": "did you get all the different titles?",
     "output_type": "error",
     "traceback": [
      "\u001b[0;31m---------------------------------------------------------------------------\u001b[0m",
      "\u001b[0;31mAssertionError\u001b[0m                            Traceback (most recent call last)",
      "\u001b[0;32m<ipython-input-97-a49d47c90d6f>\u001b[0m in \u001b[0;36m<module>\u001b[0;34m\u001b[0m\n\u001b[1;32m     27\u001b[0m \u001b[0;34m\u001b[0m\u001b[0m\n\u001b[1;32m     28\u001b[0m \u001b[0mtitles\u001b[0m \u001b[0;34m=\u001b[0m \u001b[0;34m[\u001b[0m\u001b[0;34m'professor'\u001b[0m\u001b[0;34m,\u001b[0m \u001b[0;34m'associate'\u001b[0m\u001b[0;34m,\u001b[0m \u001b[0;34m'assistant'\u001b[0m\u001b[0;34m]\u001b[0m\u001b[0;34m\u001b[0m\u001b[0;34m\u001b[0m\u001b[0m\n\u001b[0;32m---> 29\u001b[0;31m \u001b[0;32massert\u001b[0m \u001b[0mlen\u001b[0m\u001b[0;34m(\u001b[0m\u001b[0mtitles\u001b[0m\u001b[0;34m)\u001b[0m \u001b[0;34m>=\u001b[0m \u001b[0mlen\u001b[0m\u001b[0;34m(\u001b[0m\u001b[0mtitlecounts\u001b[0m\u001b[0;34m)\u001b[0m\u001b[0;34m,\u001b[0m \u001b[0;34m'did you get all the different titles?'\u001b[0m\u001b[0;34m\u001b[0m\u001b[0;34m\u001b[0m\u001b[0m\n\u001b[0m\u001b[1;32m     30\u001b[0m \u001b[0;32massert\u001b[0m \u001b[0mlen\u001b[0m\u001b[0;34m(\u001b[0m\u001b[0mtitles\u001b[0m\u001b[0;34m)\u001b[0m \u001b[0;34m==\u001b[0m \u001b[0mlen\u001b[0m\u001b[0;34m(\u001b[0m\u001b[0mtitlecounts\u001b[0m\u001b[0;34m)\u001b[0m\u001b[0;34m,\u001b[0m \u001b[0;34m'your output has too many titles'\u001b[0m\u001b[0;34m\u001b[0m\u001b[0;34m\u001b[0m\u001b[0m\n\u001b[1;32m     31\u001b[0m \u001b[0;32mfor\u001b[0m \u001b[0mtitle\u001b[0m \u001b[0;32min\u001b[0m \u001b[0mtitles\u001b[0m\u001b[0;34m:\u001b[0m\u001b[0;34m\u001b[0m\u001b[0;34m\u001b[0m\u001b[0m\n",
      "\u001b[0;31mAssertionError\u001b[0m: did you get all the different titles?"
     ]
    }
   ],
   "source": [
    "titles = ['professor', 'associate', 'assistant']\n",
    "assert len(titles) >= len(titlecounts), 'did you get all the different titles?'\n",
    "assert len(titles) == len(titlecounts), 'your output has too many titles'\n",
    "for title in titles:\n",
    "    count = titlecounts.get(title, -1)\n",
    "    print(count)"
   ]
  },
  {
   "cell_type": "markdown",
   "metadata": {},
   "source": [
    "# Question 3"
   ]
  },
  {
   "cell_type": "code",
   "execution_count": 113,
   "metadata": {},
   "outputs": [],
   "source": [
    "faculty_email = []\n",
    "with open('/Users/JacKuo14/Documents/Metis/dsp/lessons/data/faculty.csv', 'r') as csvfile:\n",
    "    file_reader = csv.reader(csvfile, delimiter = ',')\n",
    "    next(file_reader)\n",
    "    for line in file_reader:\n",
    "        faculty_email.append(line[3])"
   ]
  },
  {
   "cell_type": "code",
   "execution_count": 114,
   "metadata": {},
   "outputs": [
    {
     "data": {
      "text/plain": [
       "37"
      ]
     },
     "execution_count": 114,
     "metadata": {},
     "output_type": "execute_result"
    }
   ],
   "source": [
    "len(np.unique(faculty_email))"
   ]
  },
  {
   "cell_type": "code",
   "execution_count": 115,
   "metadata": {},
   "outputs": [
    {
     "data": {
      "text/plain": [
       "37"
      ]
     },
     "execution_count": 115,
     "metadata": {},
     "output_type": "execute_result"
    }
   ],
   "source": [
    "len(faculty_email)"
   ]
  },
  {
   "cell_type": "markdown",
   "metadata": {},
   "source": [
    "# Question 4"
   ]
  },
  {
   "cell_type": "code",
   "execution_count": 119,
   "metadata": {},
   "outputs": [
    {
     "data": {
      "text/plain": [
       "13"
      ]
     },
     "execution_count": 119,
     "metadata": {},
     "output_type": "execute_result"
    }
   ],
   "source": [
    "faculty_email[0].find(\".\")"
   ]
  },
  {
   "cell_type": "code",
   "execution_count": 122,
   "metadata": {},
   "outputs": [
    {
     "data": {
      "text/plain": [
       "'med.upenn.edu'"
      ]
     },
     "execution_count": 122,
     "metadata": {},
     "output_type": "execute_result"
    }
   ],
   "source": [
    "faculty_email[0][14:]"
   ]
  },
  {
   "cell_type": "code",
   "execution_count": 129,
   "metadata": {},
   "outputs": [],
   "source": [
    "unique_email_domains = []\n",
    "\n",
    "for email in faculty_email:\n",
    "    domain_pos = email.find(\"@\")\n",
    "    domain_val = email[domain_pos:]\n",
    "    if domain_val in unique_email_domains:\n",
    "        pass\n",
    "    else:\n",
    "        unique_email_domains.append(domain_val)   "
   ]
  },
  {
   "cell_type": "code",
   "execution_count": 130,
   "metadata": {},
   "outputs": [
    {
     "data": {
      "text/plain": [
       "['@mail.med.upenn.edu', '@upenn.edu', '@email.chop.edu', '@cceb.med.upenn.edu']"
      ]
     },
     "execution_count": 130,
     "metadata": {},
     "output_type": "execute_result"
    }
   ],
   "source": [
    "unique_email_domains"
   ]
  },
  {
   "cell_type": "code",
   "execution_count": 128,
   "metadata": {},
   "outputs": [
    {
     "data": {
      "text/plain": [
       "['bellamys@mail.med.upenn.edu',\n",
       " 'warren@upenn.edu',\n",
       " 'bryanma@upenn.edu',\n",
       " 'jinboche@upenn.edu',\n",
       " 'sellenbe@upenn.edu',\n",
       " 'jellenbe@mail.med.upenn.edu',\n",
       " 'ruifeng@upenn.edu',\n",
       " 'bcfrench@mail.med.upenn.edu',\n",
       " 'pgimotty@upenn.edu',\n",
       " 'wguo@mail.med.upenn.edu',\n",
       " 'hsu9@mail.med.upenn.edu',\n",
       " 'rhubb@mail.med.upenn.edu',\n",
       " 'whwang@mail.med.upenn.edu',\n",
       " 'mjoffe@mail.med.upenn.edu',\n",
       " 'jrlandis@mail.med.upenn.edu',\n",
       " 'liy3@email.chop.edu',\n",
       " 'mingyao@mail.med.upenn.edu',\n",
       " 'hongzhe@upenn.edu',\n",
       " 'rlocalio@upenn.edu',\n",
       " 'nanditam@mail.med.upenn.edu',\n",
       " 'knashawn@mail.med.upenn.edu',\n",
       " 'propert@mail.med.upenn.edu',\n",
       " 'mputt@mail.med.upenn.edu',\n",
       " 'sratclif@upenn.edu',\n",
       " 'michross@upenn.edu',\n",
       " 'jaroy@mail.med.upenn.edu',\n",
       " 'msammel@cceb.med.upenn.edu',\n",
       " 'shawp@upenn.edu',\n",
       " 'rshi@mail.med.upenn.edu',\n",
       " 'hshou@mail.med.upenn.edu',\n",
       " 'jshults@mail.med.upenn.edu',\n",
       " 'alisaste@mail.med.upenn.edu',\n",
       " 'atroxel@mail.med.upenn.edu',\n",
       " 'rxiao@mail.med.upenn.edu',\n",
       " 'sxie@mail.med.upenn.edu',\n",
       " 'dxie@upenn.edu',\n",
       " 'weiyang@mail.med.upenn.edu']"
      ]
     },
     "execution_count": 128,
     "metadata": {},
     "output_type": "execute_result"
    }
   ],
   "source": [
    "faculty_email"
   ]
  },
  {
   "cell_type": "markdown",
   "metadata": {},
   "source": [
    "# Question 6"
   ]
  },
  {
   "cell_type": "code",
   "execution_count": 131,
   "metadata": {},
   "outputs": [],
   "source": [
    "new_dict = {}\n",
    "faculty_list = []\n",
    "\n",
    "with open('/Users/JacKuo14/Documents/Metis/dsp/lessons/data/faculty.csv', 'r') as file:\n",
    "    file_reader = csv.reader(file, delimiter = ',')\n",
    "    for line in file_reader:\n",
    "        faculty_list.append(line)\n",
    "        #new_dict[line]"
   ]
  },
  {
   "cell_type": "code",
   "execution_count": 155,
   "metadata": {},
   "outputs": [
    {
     "data": {
      "text/plain": [
       "('Rui', 'Feng')"
      ]
     },
     "execution_count": 155,
     "metadata": {},
     "output_type": "execute_result"
    }
   ],
   "source": [
    "tuple(faculty_list[1][0].split())"
   ]
  },
  {
   "cell_type": "code",
   "execution_count": 165,
   "metadata": {},
   "outputs": [
    {
     "name": "stdout",
     "output_type": "stream",
     "text": [
      " Ph.D.\n",
      "Assistant Professor of Biostatistics\n",
      "hsu9@mail.med.upenn.edu\n"
     ]
    }
   ],
   "source": [
    "for x in faculty_list[1][1:]:\n",
    "    print(x)"
   ]
  },
  {
   "cell_type": "code",
   "execution_count": 172,
   "metadata": {},
   "outputs": [],
   "source": [
    "new_dict = defaultdict(str)\n",
    "\n",
    "new_dict['j'] = 'k'\n",
    "new_dict['j'] = 'l'"
   ]
  },
  {
   "cell_type": "code",
   "execution_count": 173,
   "metadata": {},
   "outputs": [
    {
     "data": {
      "text/plain": [
       "defaultdict(str, {'j': 'l'})"
      ]
     },
     "execution_count": 173,
     "metadata": {},
     "output_type": "execute_result"
    }
   ],
   "source": [
    "new_dict"
   ]
  },
  {
   "cell_type": "code",
   "execution_count": 177,
   "metadata": {},
   "outputs": [],
   "source": [
    "from collections import defaultdict\n",
    "\n",
    "faculty_dict = defaultdict(str)\n",
    "faculty_list = faculty_list[1:]\n",
    "for index in range(len(faculty_list)):\n",
    "    #print(faculty_list[index])\n",
    "    tuple_name = tuple(faculty_list[index][0].split()) # returns the full name in tuple\n",
    "    faculty_dict[tuple_name] = (faculty_list[index][1:])\n",
    "    "
   ]
  },
  {
   "cell_type": "code",
   "execution_count": 178,
   "metadata": {},
   "outputs": [
    {
     "data": {
      "text/plain": [
       "defaultdict(str,\n",
       "            {('J.', 'Richard', 'Landis'): [' B.S.Ed. M.S. Ph.D.',\n",
       "              'Professor of Biostatistics',\n",
       "              'jrlandis@mail.med.upenn.edu'],\n",
       "             ('Yimei', 'Li'): [' Ph.D.',\n",
       "              'Assistant Professor of Biostatistics',\n",
       "              'liy3@email.chop.edu'],\n",
       "             ('Mingyao', 'Li'): [' Ph.D.',\n",
       "              'Associate Professor of Biostatistics',\n",
       "              'mingyao@mail.med.upenn.edu'],\n",
       "             ('Hongzhe', 'Li'): [' Ph.D',\n",
       "              'Professor of Biostatistics',\n",
       "              'hongzhe@upenn.edu'],\n",
       "             ('A.', 'Russell', 'Localio'): [' JD MA MPH MS PhD',\n",
       "              'Associate Professor of Biostatistics',\n",
       "              'rlocalio@upenn.edu'],\n",
       "             ('Nandita', 'Mitra'): [' Ph.D.',\n",
       "              'Associate Professor of Biostatistics',\n",
       "              'nanditam@mail.med.upenn.edu'],\n",
       "             ('Knashawn', 'H.', 'Morales'): [' Sc.D.',\n",
       "              'Associate Professor of Biostatistics',\n",
       "              'knashawn@mail.med.upenn.edu'],\n",
       "             ('Kathleen', 'Joy', 'Propert'): [' Sc.D.',\n",
       "              'Professor of Biostatistics',\n",
       "              'propert@mail.med.upenn.edu'],\n",
       "             ('Mary', 'E.', 'Putt'): [' PhD ScD',\n",
       "              'Professor of Biostatistics',\n",
       "              'mputt@mail.med.upenn.edu'],\n",
       "             ('Sarah', 'Jane', 'Ratcliffe'): [' Ph.D.',\n",
       "              'Associate Professor of Biostatistics',\n",
       "              'sratclif@upenn.edu'],\n",
       "             ('Michelle', 'Elana', 'Ross'): [' PhD',\n",
       "              'Assistant Professor is Biostatistics',\n",
       "              'michross@upenn.edu'],\n",
       "             ('Jason', 'A.', 'Roy'): [' Ph.D.',\n",
       "              'Associate Professor of Biostatistics',\n",
       "              'jaroy@mail.med.upenn.edu'],\n",
       "             ('Mary', 'D.', 'Sammel'): [' Sc.D.',\n",
       "              'Professor of Biostatistics',\n",
       "              'msammel@cceb.med.upenn.edu'],\n",
       "             ('Pamela', 'Ann', 'Shaw'): [' PhD',\n",
       "              'Assistant Professor of Biostatistics',\n",
       "              'shawp@upenn.edu'],\n",
       "             ('Russell', 'Takeshi', 'Shinohara'): ['0',\n",
       "              'Assistant Professor of Biostatistics',\n",
       "              'rshi@mail.med.upenn.edu'],\n",
       "             ('Haochang', 'Shou'): [' Ph.D.',\n",
       "              'Assistant Professor of Biostatistics',\n",
       "              'hshou@mail.med.upenn.edu'],\n",
       "             ('Justine', 'Shults'): [' Ph.D.',\n",
       "              'Professor of Biostatistics',\n",
       "              'jshults@mail.med.upenn.edu'],\n",
       "             ('Alisa', 'Jane', 'Stephens'): [' Ph.D.',\n",
       "              'Assistant Professor of Biostatistics',\n",
       "              'alisaste@mail.med.upenn.edu'],\n",
       "             ('Andrea', 'Beth', 'Troxel'): [' ScD',\n",
       "              'Professor of Biostatistics',\n",
       "              'atroxel@mail.med.upenn.edu'],\n",
       "             ('Rui', 'Xiao'): [' PhD',\n",
       "              'Assistant Professor of Biostatistics',\n",
       "              'rxiao@mail.med.upenn.edu'],\n",
       "             ('Sharon', 'Xiangwen', 'Xie'): [' Ph.D.',\n",
       "              'Associate Professor of Biostatistics',\n",
       "              'sxie@mail.med.upenn.edu'],\n",
       "             ('Dawei', 'Xie'): [' PhD',\n",
       "              'Assistant Professor of Biostatistics',\n",
       "              'dxie@upenn.edu'],\n",
       "             ('Wei', '(Peter)', 'Yang'): [' Ph.D.',\n",
       "              'Assistant Professor of Biostatistics',\n",
       "              'weiyang@mail.med.upenn.edu']})"
      ]
     },
     "execution_count": 178,
     "metadata": {},
     "output_type": "execute_result"
    }
   ],
   "source": [
    "faculty_dict"
   ]
  },
  {
   "cell_type": "code",
   "execution_count": null,
   "metadata": {},
   "outputs": [],
   "source": []
  }
 ],
 "metadata": {
  "kernelspec": {
   "display_name": "Python 3",
   "language": "python",
   "name": "python3"
  },
  "language_info": {
   "codemirror_mode": {
    "name": "ipython",
    "version": 3
   },
   "file_extension": ".py",
   "mimetype": "text/x-python",
   "name": "python",
   "nbconvert_exporter": "python",
   "pygments_lexer": "ipython3",
   "version": "3.6.8"
  }
 },
 "nbformat": 4,
 "nbformat_minor": 2
}
